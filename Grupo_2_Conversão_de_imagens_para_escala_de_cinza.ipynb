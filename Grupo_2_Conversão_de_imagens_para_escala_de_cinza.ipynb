{
  "nbformat": 4,
  "nbformat_minor": 0,
  "metadata": {
    "colab": {
      "provenance": [],
      "include_colab_link": true
    },
    "kernelspec": {
      "name": "python3",
      "display_name": "Python 3"
    },
    "language_info": {
      "name": "python"
    }
  },
  "cells": [
    {
      "cell_type": "markdown",
      "metadata": {
        "id": "view-in-github",
        "colab_type": "text"
      },
      "source": [
        "<a href=\"https://colab.research.google.com/github/1SenaMetth/Processamento-de-Imagens_E02_Grupo2/blob/main/Grupo_2_Convers%C3%A3o_de_imagens_para_escala_de_cinza.ipynb\" target=\"_parent\"><img src=\"https://colab.research.google.com/assets/colab-badge.svg\" alt=\"Open In Colab\"/></a>"
      ]
    },
    {
      "cell_type": "markdown",
      "source": [
        "# Importação das bibliotecas necessárias"
      ],
      "metadata": {
        "id": "xlhK4sl9kv78"
      }
    },
    {
      "cell_type": "code",
      "source": [
        "import cv2 as cv\n",
        "import numpy as np\n",
        "import time\n",
        "import matplotlib.pyplot as plt\n",
        "import ipywidgets as widgets\n",
        "from google.colab import files\n",
        "from IPython.display import display, clear_output\n",
        "import io\n",
        "import zipfile\n",
        "import os"
      ],
      "metadata": {
        "id": "MMfOHb6TkqTh"
      },
      "execution_count": null,
      "outputs": []
    },
    {
      "cell_type": "markdown",
      "source": [
        "# Célula 1: Funções de Conversão e Transformação"
      ],
      "metadata": {
        "id": "uQsRhRIwktVo"
      }
    },
    {
      "cell_type": "code",
      "execution_count": null,
      "metadata": {
        "id": "UsBgW1FqKJLT"
      },
      "outputs": [],
      "source": [
        "def converter_para_cinza(img_bgr):\n",
        "    \"\"\"Converte uma imagem BGR para escala de cinza usando o método de luminosidade.\"\"\"\n",
        "    return cv.cvtColor(img_bgr, cv.COLOR_BGR2GRAY)\n",
        "\n",
        "def aplicar_transformacao(img_cinza, metodo):\n",
        "    \"\"\"Aplica transformações de contraste na imagem em escala de cinza.\"\"\"\n",
        "    img_float = img_cinza.astype(np.float64)\n",
        "\n",
        "    if metodo == 'Logaritmo':\n",
        "        denominador = np.log(1 + np.max(img_float))\n",
        "        if denominador == 0:\n",
        "            return img_cinza\n",
        "        c = 255 / denominador\n",
        "        img_transformada = c * np.log(1 + img_float)\n",
        "    elif metodo == 'Quadrado':\n",
        "        img_norm = img_float / 255.0\n",
        "        img_transformada = np.power(img_norm, 2.0) * 255\n",
        "    elif metodo == 'Exponencial':\n",
        "        img_norm = img_float / 255.0\n",
        "        img_transformada = np.power(img_norm, 0.5) * 255\n",
        "    else:\n",
        "        return img_cinza\n",
        "    return np.uint8(img_transformada)\n",
        "\n",
        "def inverter_cores(img_cinza):\n",
        "    \"\"\"Inverte as cores da imagem (efeito negativo).\"\"\"\n",
        "    return cv.bitwise_not(img_cinza)\n",
        "\n",
        "\n",
        "def exibir_canal_cor(img_bgr, canal):\n",
        "    \"\"\"Exibe um canal de cor específico (R, G, B) da forma mais simples.\"\"\"\n",
        "    azul, verde, vermelho = cv.split(img_bgr)\n",
        "    if canal == 'Vermelho':\n",
        "        return vermelho\n",
        "    elif canal == 'Verde':\n",
        "        return verde\n",
        "    elif canal == 'Azul':\n",
        "        return azul\n",
        "    else:\n",
        "        return cv.cvtColor(img_bgr, cv.COLOR_BGR2GRAY)\n",
        "\n",
        "def plotar_histograma(img_cinza):\n",
        "    \"\"\"Calcula e plota o histograma de uma imagem em escala de cinza.\"\"\"\n",
        "    plt.figure(figsize=(6, 4))\n",
        "    plt.title(\"Histograma de Tons de Cinza\")\n",
        "    plt.xlabel(\"Intensidade\")\n",
        "    plt.ylabel(\"Número de Pixels\")\n",
        "    plt.hist(img_cinza.ravel(), bins=256, range=[0, 256])\n",
        "    plt.xlim([0, 256])\n",
        "    plt.grid(True, linestyle='--', alpha=0.6)\n",
        "    plt.show()\n",
        "\n",
        "print(\"✅ Ambiente configurado e funções definidas com sucesso! (Versão Padronizada)\")\n",
        "\n",
        "imagens_carregadas = {}\n",
        "imagem_selecionada_bgr = None\n",
        "nome_arquivo_selecionado = \"\"\n",
        "imagem_processada_final = None\n",
        "download_lock = False"
      ]
    },
    {
      "cell_type": "markdown",
      "source": [
        "# Célula 2: Upload de Múltiplas Imagens\n"
      ],
      "metadata": {
        "id": "IYMZXKZdkloc"
      }
    },
    {
      "cell_type": "code",
      "source": [
        "\n",
        "\n",
        "imagens_carregadas = {}\n",
        "imagem_selecionada_bgr = None\n",
        "nome_arquivo_selecionado = \"\"\n",
        "\n",
        "print(\"Por favor, selecione uma ou mais imagens (JPG, JPEG, PNG).\")\n",
        "uploaded = files.upload()\n",
        "\n",
        "if uploaded:\n",
        "    arquivos_validos = 0\n",
        "    for nome_arquivo, dados_arquivo in uploaded.items():\n",
        "        extensao = nome_arquivo.split('.')[-1].lower()\n",
        "\n",
        "        if extensao in ['jpg', 'jpeg', 'png']:\n",
        "            try:\n",
        "                buffer_imagem = np.frombuffer(dados_arquivo, np.uint8)\n",
        "                imagem_bgr = cv.imdecode(buffer_imagem, cv.IMREAD_COLOR)\n",
        "\n",
        "                imagens_carregadas[nome_arquivo] = imagem_bgr\n",
        "                arquivos_validos += 1\n",
        "\n",
        "            except Exception as e:\n",
        "                print(f\"\\n❌ Erro ao processar '{nome_arquivo}': Arquivo corrompido ou inválido.\")\n",
        "        else:\n",
        "            print(f\"\\n❌ Erro: Arquivo '{nome_arquivo}' IGNORADO. Formato não suportado.\")\n",
        "\n",
        "    if arquivos_validos > 0:\n",
        "        print(f\"\\n✅ {arquivos_validos} imagem(ns) carregada(s) com sucesso!\")\n",
        "        print(\"➡️ Execute a próxima célula para SELECIONAR com qual imagem trabalhar.\")\n",
        "    else:\n",
        "        print(\"\\nNenhuma imagem válida foi carregada.\")\n",
        "else:\n",
        "    print(\"\\nNenhuma imagem foi selecionada.\")"
      ],
      "metadata": {
        "id": "9hVn14ckKQiX"
      },
      "execution_count": null,
      "outputs": []
    },
    {
      "cell_type": "markdown",
      "source": [
        "# Célula 3: Exibição e Processamento Inicial para todas as imagens"
      ],
      "metadata": {
        "id": "hMsGveHKkgmu"
      }
    },
    {
      "cell_type": "code",
      "source": [
        "if imagens_carregadas:\n",
        "    print(f\"Exibindo a conversão padrão para as {len(imagens_carregadas)} imagens carregadas...\")\n",
        "    print(\"-\" * 40)\n",
        "\n",
        "    for nome_arquivo, imagem_bgr in imagens_carregadas.items():\n",
        "\n",
        "        imagem_rgb = cv.cvtColor(imagem_bgr, cv.COLOR_BGR2RGB)\n",
        "\n",
        "        imagem_cinza_padrao = converter_para_cinza(imagem_bgr)\n",
        "\n",
        "        fig, axes = plt.subplots(1, 2, figsize=(12, 6))\n",
        "\n",
        "        axes[0].imshow(imagem_rgb)\n",
        "        axes[0].set_title(f'Original: {nome_arquivo}')\n",
        "        axes[0].axis('off')\n",
        "\n",
        "        axes[1].imshow(imagem_cinza_padrao, cmap='gray')\n",
        "        axes[1].set_title('Convertida (Escala de Cinza)')\n",
        "        axes[1].axis('off')\n",
        "\n",
        "        plt.tight_layout()\n",
        "        plt.show()\n",
        "\n",
        "        altura, largura, _ = imagem_bgr.shape\n",
        "        print(f\"Dimensões: {largura}px (largura) x {altura}px (altura)\")\n",
        "        print(\"-\" * 40)\n",
        "\n",
        "else:\n",
        "    print(\"❌ Nenhuma imagem carregada. Execute a Célula 2 para fazer o upload primeiro.\")\n",
        "\n",
        "\n"
      ],
      "metadata": {
        "id": "LNQimk0BKT_K"
      },
      "execution_count": null,
      "outputs": []
    },
    {
      "cell_type": "markdown",
      "source": [
        "# Célula 3.5: Seleção da Imagem Ativa"
      ],
      "metadata": {
        "id": "Leq_AbRXkThB"
      }
    },
    {
      "cell_type": "code",
      "source": [
        "if imagens_carregadas:\n",
        "    seletor_imagem = widgets.Dropdown(\n",
        "        options=list(imagens_carregadas.keys()),\n",
        "        description='Imagem Ativa:',\n",
        "        disabled=False,\n",
        "    )\n",
        "\n",
        "    output_selecao = widgets.Output()\n",
        "\n",
        "    def ao_selecionar_imagem(change):\n",
        "        global imagem_selecionada_bgr, nome_arquivo_selecionado\n",
        "\n",
        "        nome_arquivo_selecionado = change['new']\n",
        "\n",
        "        imagem_selecionada_bgr = imagens_carregadas[nome_arquivo_selecionado]\n",
        "\n",
        "        with output_selecao:\n",
        "            clear_output(wait=True)\n",
        "\n",
        "            imagem_rgb = cv.cvtColor(imagem_selecionada_bgr, cv.COLOR_BGR2RGB)\n",
        "\n",
        "            plt.figure(figsize=(7, 5))\n",
        "            plt.imshow(imagem_rgb)\n",
        "            plt.title(f\"Visualizando: {nome_arquivo_selecionado}\")\n",
        "            plt.axis('off')\n",
        "            plt.show()\n",
        "\n",
        "            print(\"\\n✅ Imagem selecionada! Prossiga para as próximas células para processá-la.\")\n",
        "\n",
        "    seletor_imagem.observe(ao_selecionar_imagem, names='value')\n",
        "\n",
        "    print(\"Selecione a imagem que deseja processar:\")\n",
        "    display(seletor_imagem, output_selecao)\n",
        "    ao_selecionar_imagem({'new': seletor_imagem.value})\n",
        "\n",
        "else:\n",
        "    print(\"❌ Nenhuma imagem carregada. Execute a Célula 2 para fazer o upload primeiro.\")"
      ],
      "metadata": {
        "id": "ndV-jpkuNRn2"
      },
      "execution_count": null,
      "outputs": []
    },
    {
      "cell_type": "markdown",
      "source": [
        "# Célula 4: Painel de Controle Interativo"
      ],
      "metadata": {
        "id": "koSZw0ngkM-h"
      }
    },
    {
      "cell_type": "code",
      "source": [
        "if imagem_selecionada_bgr is not None:\n",
        "\n",
        "    algoritmo_dropdown = widgets.Dropdown(\n",
        "        options=['Nenhum', 'Logaritmo', 'Quadrado', 'Exponencial'],\n",
        "        value='Nenhum',\n",
        "        description='Transformação:',\n",
        "        disabled=False,\n",
        "    )\n",
        "\n",
        "    inverter_checkbox = widgets.Checkbox(\n",
        "        value=False,\n",
        "        description='Inverter Cores (Negativo)',\n",
        "        disabled=False\n",
        "    )\n",
        "\n",
        "    output_area = widgets.Output()\n",
        "\n",
        "\n",
        "    def on_controls_change(change):\n",
        "        global imagem_processada_final\n",
        "\n",
        "        with output_area:\n",
        "            clear_output(wait=True)\n",
        "\n",
        "            img_cinza = converter_para_cinza(imagem_selecionada_bgr)\n",
        "\n",
        "            metodo = algoritmo_dropdown.value\n",
        "            img_transformada = aplicar_transformacao(img_cinza, metodo)\n",
        "\n",
        "            if inverter_checkbox.value:\n",
        "                img_transformada = inverter_cores(img_transformada)\n",
        "\n",
        "            imagem_processada_final = img_transformada\n",
        "\n",
        "\n",
        "            imagem_original_rgb = cv.cvtColor(imagem_selecionada_bgr, cv.COLOR_BGR2RGB)\n",
        "\n",
        "            fig, axes = plt.subplots(1, 2, figsize=(14, 7))\n",
        "\n",
        "            if len(img_transformada.shape) == 2:\n",
        "                prova_canais_cinza = \"1 Canal (Escala de Cinza)\"\n",
        "            else:\n",
        "                prova_canais_cinza = f\"{img_transformada.shape[2]} Canais\"\n",
        "\n",
        "            if len(imagem_original_rgb.shape) == 3:\n",
        "                prova_canais_original = f\"{imagem_original_rgb.shape[2]} Canais (RGB)\"\n",
        "            else:\n",
        "                prova_canais_original = \"1 Canal\"\n",
        "\n",
        "            axes[0].imshow(img_transformada, cmap='gray')\n",
        "            axes[0].set_title(f\"Imagem Processada (Canais: {prova_canais_cinza})\")\n",
        "            axes[0].axis('off')\n",
        "\n",
        "            axes[1].imshow(imagem_original_rgb)\n",
        "            axes[1].set_title(f\"Imagem Original (Canais: {prova_canais_original})\")\n",
        "            axes[1].axis('off')\n",
        "\n",
        "            plt.show()\n",
        "\n",
        "            plotar_histograma(img_transformada)\n",
        "\n",
        "    algoritmo_dropdown.observe(on_controls_change, names='value')\n",
        "    inverter_checkbox.observe(on_controls_change, names='value')\n",
        "\n",
        "    print(\"Use os controles abaixo para manipular a imagem.\")\n",
        "    display(widgets.VBox([\n",
        "        widgets.HBox([algoritmo_dropdown, inverter_checkbox]),\n",
        "        output_area\n",
        "    ]))\n",
        "\n",
        "    on_controls_change(None)\n",
        "\n",
        "else:\n",
        "    print(\"❌ Nenhuma imagem selecionada. Por favor, execute a Célula 2 (Upload) e depois a Célula 3.5 (Seleção) primeiro.\")"
      ],
      "metadata": {
        "id": "UCNyz-NSKVrQ"
      },
      "execution_count": null,
      "outputs": []
    },
    {
      "cell_type": "markdown",
      "source": [
        "#Celula 5: Painel de download"
      ],
      "metadata": {
        "id": "7DH2IQyPlXF0"
      }
    },
    {
      "cell_type": "code",
      "source": [
        "clear_output(wait=True)\n",
        "\n",
        "DOWNLOAD_EM_ANDAMENTO = False\n",
        "\n",
        "if 'imagens_carregadas' in globals() and imagens_carregadas:\n",
        "\n",
        "    def iniciar_download_em_lote_zip(b):\n",
        "        global DOWNLOAD_EM_ANDAMENTO\n",
        "\n",
        "        if DOWNLOAD_EM_ANDAMENTO:\n",
        "            with output_download:\n",
        "                 print(\"⚠️ Processo já em andamento! Por favor, aguarde a finalização.\")\n",
        "            return\n",
        "\n",
        "        DOWNLOAD_EM_ANDAMENTO = True\n",
        "        botao_download.disabled = True\n",
        "\n",
        "        try:\n",
        "            with output_download:\n",
        "                clear_output(wait=True)\n",
        "                print(\"🚀 Iniciando processo de compactação...\")\n",
        "\n",
        "                escolha = escolha_download.value\n",
        "                metodo_atual = algoritmo_dropdown.value\n",
        "                inverter_atual = inverter_checkbox.value\n",
        "                nome_arquivo_zip = f\"imagens_processadas_{int(time.time())}.zip\"\n",
        "\n",
        "                with zipfile.ZipFile(nome_arquivo_zip, 'w') as zf:\n",
        "                    total = len(imagens_carregadas)\n",
        "                    for i, (nome_arquivo, imagem_bgr) in enumerate(imagens_carregadas.items()):\n",
        "                        print(f\"[{i+1}/{total}] Processando: {nome_arquivo}...\")\n",
        "                        imagem_final = None\n",
        "                        sufixo_nome = \"\"\n",
        "\n",
        "                        if escolha == 'Aplicar Transformação Atual (em todas)':\n",
        "                            sufixo_nome = f\"_{metodo_atual.lower()}\"\n",
        "                            if inverter_atual:\n",
        "                                sufixo_nome += \"_invertido\"\n",
        "                            img_cinza = converter_para_cinza(imagem_bgr)\n",
        "                            img_transformada = aplicar_transformacao(img_cinza, metodo_atual)\n",
        "                            if inverter_atual:\n",
        "                                img_transformada = inverter_cores(img_transformada)\n",
        "                            imagem_final = img_transformada\n",
        "                        else:\n",
        "                            sufixo_nome = \"_cinza\"\n",
        "                            imagem_final = converter_para_cinza(imagem_bgr)\n",
        "\n",
        "                        if imagem_final is not None:\n",
        "                            nome_base, extensao = os.path.splitext(nome_arquivo)\n",
        "\n",
        "                            formato_saida = '.png' if extensao.lower() == '.png' else '.jpg'\n",
        "                            nome_arquivo_saida = f\"{nome_base}{sufixo_nome}{formato_saida}\"\n",
        "\n",
        "                            is_success, buffer_saida = cv.imencode(formato_saida, imagem_final)\n",
        "                            if is_success:\n",
        "                                zf.writestr(nome_arquivo_saida, buffer_saida.tobytes())\n",
        "                                print(f\"✔️ Adicionado '{nome_arquivo_saida}' ao ZIP.\")\n",
        "                            else:\n",
        "                                print(f\"❌ Falha ao codificar a imagem: {nome_arquivo}\")\n",
        "\n",
        "                print(\"\\n\" + \"=\"*40)\n",
        "                print(f\"✅ Arquivo '{nome_arquivo_zip}' criado com sucesso! Iniciando download...\")\n",
        "                files.download(nome_arquivo_zip)\n",
        "\n",
        "        finally:\n",
        "\n",
        "            print(\"\\nProcesso concluído! Liberando controles.\")\n",
        "            DOWNLOAD_EM_ANDAMENTO = False\n",
        "            botao_download.disabled = False\n",
        "\n",
        "\n",
        "    label_download = widgets.Label(value=\"Opção de Download em Lote:\")\n",
        "    escolha_download = widgets.RadioButtons(\n",
        "        options=['Aplicar Transformação Atual (em todas)', 'Converter para Cinza Padrão (em todas)'],\n",
        "        description='',\n",
        "        disabled=False\n",
        "    )\n",
        "    botao_download = widgets.Button(\n",
        "        description=\"Gerar e Baixar .ZIP\",\n",
        "        button_style='success',\n",
        "        tooltip='Processar e baixar um arquivo ZIP com todas as imagens carregadas',\n",
        "        icon='download'\n",
        "    )\n",
        "    output_download = widgets.Output()\n",
        "\n",
        "\n",
        "    botao_download.on_click(iniciar_download_em_lote_zip)\n",
        "\n",
        "    print(\"Selecione como deseja baixar TODAS as imagens carregadas e clique no botão.\")\n",
        "    box_opcoes = widgets.VBox([label_download, escolha_download])\n",
        "    display(box_opcoes, botao_download, output_download)\n",
        "\n",
        "else:\n",
        "    print(\"❌ Nenhuma imagem carregada. Execute a Célula 2 (Upload) e a Célula 3.5 (Seleção) primeiro.\")"
      ],
      "metadata": {
        "id": "YPz9lnvvh3xS"
      },
      "execution_count": null,
      "outputs": []
    }
  ]
}