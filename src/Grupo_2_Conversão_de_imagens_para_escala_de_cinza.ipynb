{
 "cells": [
  {
   "cell_type": "markdown",
   "metadata": {},
   "source": [
    "# Módulo Grupo 2: Análise de Filtros de Suavização\n",
    "\n",
    "**Objetivo:** Converter imagens para escala de cinza, aplicar filtros de suavização (Gaussiano, Bilateral, Mediano) e avaliar qual filtro é o mais eficaz, medindo a redução de ruído versus a perda de foco (nitidez)."
   ]
  },
  {
   "cell_type": "markdown",
   "metadata": {},
   "source": [
    "# Célula 1: Importação das bibliotecas necessárias"
   ]
  },
  {
   "cell_type": "code",
   "execution_count": null,
   "metadata": {},
   "outputs": [],
   "source": [
    "import cv2 as cv\n",
    "import numpy as np\n",
    "import matplotlib.pyplot as plt\n",
    "from google.colab import files\n",
    "from IPython.display import display, clear_output\n",
    "\n",
    "print(\"Bibliotecas importadas com sucesso\")"
   ]
  },
  {
   "cell_type": "markdown",
   "metadata": {},
   "source": [
    "# Célula 2: Definição da Função de Conversão"
   ]
  },
  {
   "cell_type": "code",
   "execution_count": null,
   "metadata": {},
   "outputs": [],
   "source": [
    "def converter_para_cinza(img_bgr):\n",
    "    \"\"\"Converte uma imagem BGR para escala de cinza.\"\"\"\n",
    "    return cv.cvtColor(img_bgr, cv.COLOR_BGR2GRAY)\n",
    "\n",
    "imagem_selecionada_bgr = None\n",
    "\n",
    "print(\"Função de conversão definida com sucesso\")"
   ]
  },
  {
   "cell_type": "markdown",
   "metadata": {},
   "source": [
    "# Célula 3: Upload de Imagem"
   ]
  },
  {
   "cell_type": "code",
   "execution_count": null,
   "metadata": {},
   "outputs": [],
   "source": [
    "imagem_selecionada_bgr = None\n",
    "\n",
    "print(\"Por favor, selecione uma imagem (JPG, JPEG, PNG).\")\n",
    "uploaded = files.upload()\n",
    "\n",
    "if uploaded:\n",
    "    nome_arquivo = list(uploaded.keys())[0]\n",
    "    extensao = nome_arquivo.split('.')[-1].lower()\n",
    "    \n",
    "    if extensao in ['jpg', 'jpeg', 'png']:\n",
    "        try:\n",
    "            buffer_imagem = np.frombuffer(uploaded[nome_arquivo], np.uint8)\n",
    "            imagem_selecionada_bgr = cv.imdecode(buffer_imagem, cv.IMREAD_COLOR)\n",
    "            print(f\"\\nImagem '{nome_arquivo}' carregada com sucesso!\")\n",
    "        except Exception as e:\n",
    "            print(f\"\\nErro ao processar '{nome_arquivo}': Arquivo corrompido ou inválido.\")\n",
    "    else:\n",
    "        print(f\"\\nErro: Arquivo '{nome_arquivo}' IGNORADO. Formato não suportado.\")\n",
    "else:\n",
    "    print(\"\\nNenhuma imagem foi selecionada.\")"
   ]
  },
  {
   "cell_type": "markdown",
   "metadata": {},
   "source": [
    "# Célula 4: Conversão e Visualização"
   ]
  },
  {
   "cell_type": "code",
   "execution_count": null,
   "metadata": {},
   "outputs": [],
   "source": [
    "if imagem_selecionada_bgr is not None:\n",
    "    print(\"Convertendo imagem para escala de cinza...\")\n",
    "    \n",
    "    img_cinza = converter_para_cinza(imagem_selecionada_bgr)\n",
    "    \n",
    "    fig, axes = plt.subplots(1, 2, figsize=(12, 5))\n",
    "    fig.suptitle(\"Conversão para Escala de Cinza\", fontsize=16)\n",
    "    \n",
    "    imagem_rgb = cv.cvtColor(imagem_selecionada_bgr, cv.COLOR_BGR2RGB)\n",
    "    axes[0].imshow(imagem_rgb)\n",
    "    axes[0].set_title(\"Imagem Original\")\n",
    "    axes[0].axis('off')\n",
    "    \n",
    "    axes[1].imshow(img_cinza, cmap='gray')\n",
    "    axes[1].set_title(\"Imagem em Escala de Cinza\")\n",
    "    axes[1].axis('off')\n",
    "    \n",
    "    plt.tight_layout()\n",
    "    plt.show()\n",
    "    \n",
    "    print(\"\\nConversão concluída com sucesso!\")\n",
    "else:\n",
    "    print(\"Nenhuma imagem carregada. Execute a Célula 3 primeiro.\")"
   ]
  }
 ],
 "metadata": {
  "kernelspec": {
   "display_name": "Python 3",
   "language": "python",
   "name": "python3"
  },
  "language_info": {
   "codemirror_mode": {
    "name": "ipython",
    "version": 3
   },
   "file_extension": ".py",
   "mimetype": "text/x-python",
   "name": "python",
   "nbconvert_exporter": "python",
   "pygments_lexer": "ipython3",
   "version": "3.10.0"
  }
 },
 "nbformat": 4,
 "nbformat_minor": 4
}
