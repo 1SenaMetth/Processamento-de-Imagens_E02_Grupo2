{
 "cells": [
  {
   "cell_type": "markdown",
   "metadata": {},
   "source": [
    "# Módulo Grupo 2: Análise de Filtros de Suavização\n",
    "\n",
    "**Objetivo:** Converter imagens para escala de cinza, aplicar filtros de suavização (Gaussiano, Bilateral, Mediano) e avaliar qual filtro é o mais eficaz, medindo a redução de ruído versus a perda de foco (nitidez)."
   ]
  },
  {
   "cell_type": "markdown",
   "metadata": {},
   "source": [
    "# Célula 1: Importação das bibliotecas necessárias"
   ]
  },
  {
   "cell_type": "code",
   "execution_count": null,
   "metadata": {},
   "outputs": [],
   "source": [
    "import cv2 as cv\n",
    "import numpy as np\n",
    "import matplotlib.pyplot as plt\n",
    "from google.colab import files\n",
    "from IPython.display import display, clear_output\n",
    "\n",
    "print(\"Bibliotecas importadas com sucesso\")"
   ]
  },
  {
   "cell_type": "markdown",
   "metadata": {},
   "source": [
    "# Célula 2: Definição das Funções de Conversão e Filtros"
   ]
  },
  {
   "cell_type": "code",
   "execution_count": null,
   "metadata": {},
   "outputs": [],
   "source": [
    "def converter_para_cinza(img_bgr):\n",
    "    \"\"\"Converte uma imagem BGR para escala de cinza.\"\"\"\n",
    "    return cv.cvtColor(img_bgr, cv.COLOR_BGR2GRAY)\n",
    "\n",
    "def aplicar_filtros(img_cinza):\n",
    "    \"\"\"Aplica os filtros: Gaussiano, Mediano e Bilateral.\"\"\"\n",
    "    img_gaussiano = cv.GaussianBlur(img_cinza, (5, 5), 0)\n",
    "    img_mediano = cv.medianBlur(img_cinza, 5)\n",
    "    img_bilateral = cv.bilateralFilter(img_cinza, 9, 75, 75)\n",
    "    \n",
    "    filtros = {\n",
    "        'Gaussiano': img_gaussiano,\n",
    "        'Mediano': img_mediano,\n",
    "        'Bilateral': img_bilateral\n",
    "    }\n",
    "    return filtros\n",
    "\n",
    "imagem_selecionada_bgr = None\n",
    "\n",
    "print(\"Funções de conversão e filtros definidas com sucesso\")"
   ]
  },
  {
   "cell_type": "markdown",
   "metadata": {},
   "source": [
    "# Célula 3: Upload de Imagem"
   ]
  },
  {
   "cell_type": "code",
   "execution_count": null,
   "metadata": {},
   "outputs": [],
   "source": [
    "imagem_selecionada_bgr = None\n",
    "\n",
    "print(\"Por favor, selecione uma imagem (JPG, JPEG, PNG).\")\n",
    "uploaded = files.upload()\n",
    "\n",
    "if uploaded:\n",
    "    nome_arquivo = list(uploaded.keys())[0]\n",
    "    extensao = nome_arquivo.split('.')[-1].lower()\n",
    "    \n",
    "    if extensao in ['jpg', 'jpeg', 'png']:\n",
    "        try:\n",
    "            buffer_imagem = np.frombuffer(uploaded[nome_arquivo], np.uint8)\n",
    "            imagem_selecionada_bgr = cv.imdecode(buffer_imagem, cv.IMREAD_COLOR)\n",
    "            print(f\"\\nImagem '{nome_arquivo}' carregada com sucesso!\")\n",
    "        except Exception as e:\n",
    "            print(f\"\\nErro ao processar '{nome_arquivo}': Arquivo corrompido ou inválido.\")\n",
    "    else:\n",
    "        print(f\"\\nErro: Arquivo '{nome_arquivo}' IGNORADO. Formato não suportado.\")\n",
    "else:\n",
    "    print(\"\\nNenhuma imagem foi selecionada.\")"
   ]
  },
  {
   "cell_type": "markdown",
   "metadata": {},
   "source": [
    "# Célula 4: Aplicação de Filtros e Visualização"
   ]
  },
  {
   "cell_type": "code",
   "execution_count": null,
   "metadata": {},
   "outputs": [],
   "source": [
    "if imagem_selecionada_bgr is not None:\n",
    "    print(\"Convertendo imagem para escala de cinza...\")\n",
    "    img_cinza_original = converter_para_cinza(imagem_selecionada_bgr)\n",
    "    \n",
    "    print(\"Aplicando filtros de suavização...\")\n",
    "    imagens_filtradas = aplicar_filtros(img_cinza_original)\n",
    "    \n",
    "    fig, axes = plt.subplots(2, 2, figsize=(14, 12))\n",
    "    fig.suptitle(\"Comparação de Filtros de Suavização\", fontsize=16)\n",
    "    \n",
    "    axes[0, 0].imshow(img_cinza_original, cmap='gray')\n",
    "    axes[0, 0].set_title(\"Original (Cinza)\")\n",
    "    axes[0, 0].axis('off')\n",
    "    \n",
    "    axes[0, 1].imshow(imagens_filtradas['Gaussiano'], cmap='gray')\n",
    "    axes[0, 1].set_title(\"Filtro Gaussiano\")\n",
    "    axes[0, 1].axis('off')\n",
    "    \n",
    "    axes[1, 0].imshow(imagens_filtradas['Mediano'], cmap='gray')\n",
    "    axes[1, 0].set_title(\"Filtro Mediano\")\n",
    "    axes[1, 0].axis('off')\n",
    "    \n",
    "    axes[1, 1].imshow(imagens_filtradas['Bilateral'], cmap='gray')\n",
    "    axes[1, 1].set_title(\"Filtro Bilateral\")\n",
    "    axes[1, 1].axis('off')\n",
    "    \n",
    "    plt.tight_layout(rect=[0, 0.03, 1, 0.95])\n",
    "    plt.show()\n",
    "    \n",
    "    print(\"\\nFiltros aplicados com sucesso!\")\n",
    "else:\n",
    "    print(\"Nenhuma imagem carregada. Execute a Célula 3 primeiro.\")"
   ]
  }
 ],
 "metadata": {
  "kernelspec": {
   "display_name": "Python 3",
   "language": "python",
   "name": "python3"
  },
  "language_info": {
   "codemirror_mode": {
    "name": "ipython",
    "version": 3
   },
   "file_extension": ".py",
   "mimetype": "text/x-python",
   "name": "python",
   "nbconvert_exporter": "python",
   "pygments_lexer": "ipython3",
   "version": "3.10.0"
  }
 },
 "nbformat": 4,
 "nbformat_minor": 4
}
