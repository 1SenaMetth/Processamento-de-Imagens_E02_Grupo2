{
 "cells": [
  {
   "cell_type": "markdown",
   "metadata": {},
   "source": [
    "# Módulo Grupo 2: Análise de Filtros de Suavização\n",
    "\n",
    "**Objetivo:** Converter imagens para escala de cinza, aplicar filtros de suavização (Gaussiano, Bilateral, Mediano) e avaliar qual filtro é o mais eficaz, medindo a redução de ruído versus a perda de foco (nitidez)."
   ]
  },
  {
   "cell_type": "markdown",
   "metadata": {},
   "source": [
    "# Célula 1: Importação das bibliotecas necessárias"
   ]
  },
  {
   "cell_type": "code",
   "execution_count": null,
   "metadata": {},
   "outputs": [],
   "source": [
    "import cv2 as cv\n",
    "import numpy as np\n",
    "import matplotlib.pyplot as plt\n",
    "import pandas as pd\n",
    "from google.colab import files\n",
    "from IPython.display import display, clear_output\n",
    "\n",
    "print(\"Bibliotecas importadas com sucesso\")"
   ]
  },
  {
   "cell_type": "markdown",
   "metadata": {},
   "source": [
    "# Célula 2: Definição das Funções de Conversão, Filtros e Métricas"
   ]
  },
  {
   "cell_type": "code",
   "execution_count": null,
   "metadata": {},
   "outputs": [],
   "source": [
    "def converter_para_cinza(img_bgr):\n",
    "    \"\"\"Converte uma imagem BGR para escala de cinza.\"\"\"\n",
    "    return cv.cvtColor(img_bgr, cv.COLOR_BGR2GRAY)\n",
    "\n",
    "def medir_ruido(img):\n",
    "    \"\"\"Calcula o nível de ruído como o desvio padrão dos pixels.\"\"\"\n",
    "    return np.std(img)\n",
    "\n",
    "def medir_foco_laplaciano(img_cinza):\n",
    "    \"\"\"Avalia a nitidez pela variância do Laplaciano.\n",
    "    Valores altos indicam maior nitidez.\"\"\"\n",
    "    \n",
    "    return cv.Laplacian(img_cinza, cv.CV_64F).var()\n",
    "\n",
    "def aplicar_filtros(img_cinza):\n",
    "    \"\"\"Aplica os filtros: Gaussiano, Mediano e Bilateral.\"\"\"\n",
    "    img_gaussiano = cv.GaussianBlur(img_cinza, (5, 5), 0)\n",
    "    img_mediano = cv.medianBlur(img_cinza, 5)\n",
    "    img_bilateral = cv.bilateralFilter(img_cinza, 9, 75, 75)\n",
    "    \n",
    "    filtros = {\n",
    "        'Gaussiano': img_gaussiano,\n",
    "        'Mediano': img_mediano,\n",
    "        'Bilateral': img_bilateral\n",
    "    }\n",
    "    return filtros\n",
    "\n",
    "imagem_selecionada_bgr = None\n",
    "\n",
    "print(\"Funções de análise definidas com sucesso\")"
   ]
  },
  {
   "cell_type": "markdown",
   "metadata": {},
   "source": [
    "# Célula 3: Upload de Imagem"
   ]
  },
  {
   "cell_type": "code",
   "execution_count": null,
   "metadata": {},
   "outputs": [],
   "source": [
    "imagem_selecionada_bgr = None\n",
    "\n",
    "print(\"Por favor, selecione uma imagem (JPG, JPEG, PNG).\")\n",
    "uploaded = files.upload()\n",
    "\n",
    "if uploaded:\n",
    "    nome_arquivo = list(uploaded.keys())[0]\n",
    "    extensao = nome_arquivo.split('.')[-1].lower()\n",
    "    \n",
    "    if extensao in ['jpg', 'jpeg', 'png']:\n",
    "        try:\n",
    "            buffer_imagem = np.frombuffer(uploaded[nome_arquivo], np.uint8)\n",
    "            imagem_selecionada_bgr = cv.imdecode(buffer_imagem, cv.IMREAD_COLOR)\n",
    "            print(f\"\\nImagem '{nome_arquivo}' carregada com sucesso!\")\n",
    "        except Exception as e:\n",
    "            print(f\"\\nErro ao processar '{nome_arquivo}': Arquivo corrompido ou inválido.\")\n",
    "    else:\n",
    "        print(f\"\\nErro: Arquivo '{nome_arquivo}' IGNORADO. Formato não suportado.\")\n",
    "else:\n",
    "    print(\"\\nNenhuma imagem foi selecionada.\")"
   ]
  },
  {
   "cell_type": "markdown",
   "metadata": {},
   "source": [
    "# Célula 4: Análise Completa com Métricas"
   ]
  },
  {
   "cell_type": "code",
   "execution_count": null,
   "metadata": {},
   "outputs": [],
   "source": [
    "if imagem_selecionada_bgr is not None:\n",
    "    print(\"Iniciando análise...\")\n",
    "    print(\"-\" * 40)\n",
    "    \n",
    "    img_cinza_original = converter_para_cinza(imagem_selecionada_bgr)\n",
    "    ruido_original = medir_ruido(img_cinza_original)\n",
    "    foco_original = medir_foco_laplaciano(img_cinza_original)\n",
    "    \n",
    "    resultados = {\n",
    "        'Análise': ['Original'],\n",
    "        'Ruído': [ruido_original],\n",
    "        'Foco': [foco_original]\n",
    "    }\n",
    "    \n",
    "    imagens_filtradas = aplicar_filtros(img_cinza_original)\n",
    "    print(\"Filtros aplicados...\")\n",
    "    \n",
    "    for nome_filtro, img_filtrada in imagens_filtradas.items():\n",
    "        ruido_filtro = medir_ruido(img_filtrada)\n",
    "        foco_filtro = medir_foco_laplaciano(img_filtrada)\n",
    "        \n",
    "        resultados['Análise'].append(nome_filtro)\n",
    "        resultados['Ruído'].append(ruido_filtro)\n",
    "        resultados['Foco'].append(foco_filtro)\n",
    "    \n",
    "    df_resultados = pd.DataFrame(resultados)\n",
    "    \n",
    "    print(\"Análise concluída.\")\n",
    "    print(\"-\" * 40)\n",
    "    \n",
    "    fig, axes = plt.subplots(2, 2, figsize=(14, 12))\n",
    "    fig.suptitle(\"Comparação de Filtros com Métricas\", fontsize=16)\n",
    "    \n",
    "    axes[0, 0].imshow(img_cinza_original, cmap='gray')\n",
    "    axes[0, 0].set_title(f\"Original (Cinza)\\nRuído: {ruido_original:.2f} | Foco: {foco_original:.2f}\")\n",
    "    axes[0, 0].axis('off')\n",
    "    \n",
    "    dados_gauss = df_resultados[df_resultados['Análise'] == 'Gaussiano'].iloc[0]\n",
    "    axes[0, 1].imshow(imagens_filtradas['Gaussiano'], cmap='gray')\n",
    "    axes[0, 1].set_title(f\"Filtro Gaussiano\\nRuído: {dados_gauss['Ruído']:.2f} | Foco: {dados_gauss['Foco']:.2f}\")\n",
    "    axes[0, 1].axis('off')\n",
    "    \n",
    "    dados_median = df_resultados[df_resultados['Análise'] == 'Mediano'].iloc[0]\n",
    "    axes[1, 0].imshow(imagens_filtradas['Mediano'], cmap='gray')\n",
    "    axes[1, 0].set_title(f\"Filtro Mediano\\nRuído: {dados_median['Ruído']:.2f} | Foco: {dados_median['Foco']:.2f}\")\n",
    "    axes[1, 0].axis('off')\n",
    "    \n",
    "    dados_bilat = df_resultados[df_resultados['Análise'] == 'Bilateral'].iloc[0]\n",
    "    axes[1, 1].imshow(imagens_filtradas['Bilateral'], cmap='gray')\n",
    "    axes[1, 1].set_title(f\"Filtro Bilateral\\nRuído: {dados_bilat['Ruído']:.2f} | Foco: {dados_bilat['Foco']:.2f}\")\n",
    "    axes[1, 1].axis('off')\n",
    "    \n",
    "    plt.tight_layout(rect=[0, 0.03, 1, 0.95])\n",
    "    plt.show()\n",
    "    \n",
    "    print(\"\\n\" + \"=\"*60)\n",
    "    print(\"Tabela de Métricas\")\n",
    "    print(\"=\"*60)\n",
    "    display(df_resultados.set_index('Análise'))\n",
    "    \n",
    "else:\n",
    "    print(\"Nenhuma imagem carregada. Execute a Célula 3 primeiro.\")"
   ]
  }
 ],
 "metadata": {
  "kernelspec": {
   "display_name": "Python 3",
   "language": "python",
   "name": "python3"
  },
  "language_info": {
   "codemirror_mode": {
    "name": "ipython",
    "version": 3
   },
   "file_extension": ".py",
   "mimetype": "text/x-python",
   "name": "python",
   "nbconvert_exporter": "python",
   "pygments_lexer": "ipython3",
   "version": "3.10.0"
  }
 },
 "nbformat": 4,
 "nbformat_minor": 4
}
